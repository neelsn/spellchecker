{
 "cells": [
  {
   "cell_type": "code",
   "execution_count": 1,
   "metadata": {},
   "outputs": [],
   "source": [
    "import csv # read from file\n",
    "import math # exponentiation\n",
    "import string # string processing\n",
    "import nltk # get corpus\n",
    "import time # efficiency\n",
    "import heapq # 'top k'\n",
    "import pandas as pd # csv processing\n",
    "import numpy as np # numerical processing\n",
    "from operator import itemgetter # sorting\n",
    "from english_words import english_words_set # extra words"
   ]
  },
  {
   "cell_type": "code",
   "execution_count": 2,
   "metadata": {},
   "outputs": [
    {
     "name": "stderr",
     "output_type": "stream",
     "text": [
      "[nltk_data] Downloading package words to\n",
      "[nltk_data]     /Users/neelnarayan/nltk_data...\n",
      "[nltk_data]   Package words is already up-to-date!\n"
     ]
    }
   ],
   "source": [
    "nltk.download('words')\n",
    "from nltk.corpus import words"
   ]
  },
  {
   "cell_type": "code",
   "execution_count": 3,
   "metadata": {},
   "outputs": [
    {
     "name": "stdout",
     "output_type": "stream",
     "text": [
      "8579806\n"
     ]
    }
   ],
   "source": [
    "df = pd.read_csv(\"True.csv\")\n",
    "\n",
    "words = []\n",
    "words.append('<s>')\n",
    "for i in range(len(df) - 1):\n",
    "    for word in df.iloc[i][1].split():\n",
    "        words.append(word.lower())\n",
    "        if '.' in word and word.index('.') == (len(word) - 1):\n",
    "            words.append('</s>')\n",
    "\n",
    "print(len(words))"
   ]
  },
  {
   "cell_type": "code",
   "execution_count": 4,
   "metadata": {},
   "outputs": [
    {
     "name": "stdout",
     "output_type": "stream",
     "text": [
      "WASHINGTON (Reuters) - Transgender people will be allowed for the first time to enlist in the U.S. military starting on Monday as ordered by federal courts, the Pentagon said on Friday, after President Donald Trump’s administration decided not to appeal rulings that blocked his transgender ban. Two federal appeals courts, one in Washington and one in Virginia, last week rejected the administration’s request to put on hold orders by lower court judges requiring the military to begin accepting transgender recruits on Jan. 1. A Justice Department official said the administration will not challenge those rulings. “The Department of Defense has announced that it will be releasing an independent study of these issues in the coming weeks. So rather than litigate this interim appeal before that occurs, the administration has decided to wait for DOD’s study and will continue to defend the president’s lawful authority in District Court in the meantime,” the official said, speaking on condition of anonymity. In September, the Pentagon said it had created a panel of senior officials to study how to implement a directive by Trump to prohibit transgender individuals from serving. The Defense Department has until Feb. 21 to submit a plan to Trump. Lawyers representing currently-serving transgender service members and aspiring recruits said they had expected the administration to appeal the rulings to the conservative-majority Supreme Court, but were hoping that would not happen. Pentagon spokeswoman Heather Babb said in a statement: “As mandated by court order, the Department of Defense is prepared to begin accessing transgender applicants for military service Jan. 1. All applicants must meet all accession standards.” Jennifer Levi, a lawyer with gay, lesbian and transgender advocacy group GLAD, called the decision not to appeal “great news.” “I’m hoping it means the government has come to see that there is no way to justify a ban and that it’s not good for the military or our country,” Levi said. Both GLAD and the American Civil Liberties Union represent plaintiffs in the lawsuits filed against the administration. In a move that appealed to his hard-line conservative supporters, Trump announced in July that he would prohibit transgender people from serving in the military, reversing Democratic President Barack Obama’s policy of accepting them. Trump said on Twitter at the time that the military “cannot be burdened with the tremendous medical costs and disruption that transgender in the military would entail.” Four federal judges - in Baltimore, Washington, D.C., Seattle and Riverside, California - have issued rulings blocking Trump’s ban while legal challenges to the Republican president’s policy proceed. The judges said the ban would likely violate the right under the U.S. Constitution to equal protection under the law. The Pentagon on Dec. 8 issued guidelines to recruitment personnel in order to enlist transgender applicants by Jan. 1. The memo outlined medical requirements and specified how the applicants’ sex would be identified and even which undergarments they would wear. The Trump administration previously said in legal papers that the armed forces were not prepared to train thousands of personnel on the medical standards needed to process transgender applicants and might have to accept “some individuals who are not medically fit for service.” The Obama administration had set a deadline of July 1, 2017, to begin accepting transgender recruits. But Trump’s defense secretary, James Mattis, postponed that date to Jan. 1, 2018, which the president’s ban then put off indefinitely. Trump has taken other steps aimed at rolling back transgender rights. In October, his administration said a federal law banning gender-based workplace discrimination does not protect transgender employees, reversing another Obama-era position. In February, Trump rescinded guidance issued by the Obama administration saying that public schools should allow transgender students to use the restroom that corresponds to their gender identity. \n"
     ]
    }
   ],
   "source": [
    "# print sample article\n",
    "print(df.iloc[1][1])"
   ]
  },
  {
   "cell_type": "code",
   "execution_count": 5,
   "metadata": {},
   "outputs": [],
   "source": [
    "def create_bigrams(words):\n",
    "    bigrams = []\n",
    "    bigrams_freq = {}\n",
    "    word_freq = {}\n",
    "    for i in range(len(words) - 1):\n",
    "        bigram = (words[i], words[i + 1])\n",
    "        if i < len(words) - 1:\n",
    "            bigrams.append(bigram)\n",
    "            if bigram in bigrams_freq:\n",
    "                bigrams_freq[bigram] += 1\n",
    "            else:\n",
    "                bigrams_freq[bigram] = 1\n",
    "        if words[i] in word_freq:\n",
    "            word_freq[words[i]] += 1\n",
    "        else:\n",
    "            word_freq[words[i]] = 1\n",
    "    return bigrams, word_freq, bigrams_freq"
   ]
  },
  {
   "cell_type": "code",
   "execution_count": 6,
   "metadata": {},
   "outputs": [],
   "source": [
    "bigrams, word_freq, bigrams_freq = create_bigrams(words)"
   ]
  },
  {
   "cell_type": "code",
   "execution_count": 7,
   "metadata": {},
   "outputs": [],
   "source": [
    "def calculate_bigrams_probability(bigrams, word_freq, bigrams_freq):\n",
    "    probabilities = {}\n",
    "    for bigram in bigrams:\n",
    "        word1 = bigram[0]\n",
    "        probabilities[bigram] = math.log((bigrams_freq[bigram] + 1) / (word_freq[word1] + 8579806))\n",
    "    return probabilities"
   ]
  },
  {
   "cell_type": "code",
   "execution_count": 8,
   "metadata": {},
   "outputs": [],
   "source": [
    "bigram_probabilities = calculate_bigrams_probability(bigrams, word_freq, bigrams_freq)"
   ]
  },
  {
   "cell_type": "code",
   "execution_count": 9,
   "metadata": {},
   "outputs": [],
   "source": [
    "def calculate_unknown_bigrams_probability(bigram):\n",
    "    if bigram[0] not in word_freq:\n",
    "        word_freq[bigram[0]] = 1\n",
    "    bigram_probabilities[bigram] = math.log(1 / (word_freq[bigram[0]] + 8579806))"
   ]
  },
  {
   "cell_type": "code",
   "execution_count": 10,
   "metadata": {},
   "outputs": [
    {
     "name": "stdout",
     "output_type": "stream",
     "text": [
      "-15.969165271621279\n",
      "-7.203158871411385\n"
     ]
    }
   ],
   "source": [
    "bad_bigram = ('trump', 'donald')\n",
    "if bad_bigram not in bigrams:\n",
    "    calculate_unknown_bigrams_probability(bad_bigram)\n",
    "print(bigram_probabilities[bad_bigram])\n",
    "good_bigram = ('donald', 'trump')\n",
    "print(bigram_probabilities[good_bigram])"
   ]
  },
  {
   "cell_type": "code",
   "execution_count": 11,
   "metadata": {
    "scrolled": false
   },
   "outputs": [
    {
     "name": "stdout",
     "output_type": "stream",
     "text": [
      "('of', 'the')\n",
      "('of', 'the') :  -5.216751290905708\n",
      "('</s>', 'the') :  -5.227535124695011\n",
      "('in', 'the') :  -5.3671079102834485\n",
      "('to', 'the') :  -5.984616689707037\n",
      "('said.', '</s>') :  -5.987726681362507\n",
      "('(reuters)', '-') :  -6.003846840240963\n",
      "('in', 'a') :  -6.176614412566284\n",
      "('on', 'the') :  -6.2631386141651815\n",
      "('for', 'the') :  -6.333667049584559\n",
      "('the', 'united') :  -6.466039735431085\n",
      "('and', 'the') :  -6.583244863306866\n",
      "('with', 'the') :  -6.653984591211452\n",
      "('the', 'u.s.') :  -6.663033999578238\n",
      "('at', 'the') :  -6.685055012917045\n",
      "('by', 'the') :  -6.715700917703136\n",
      "('said', 'on') :  -6.757655965479918\n",
      "('to', 'be') :  -6.82078160220548\n",
      "('that', 'the') :  -6.835175007126235\n",
      "('</s>', 'in') :  -6.880772222711231\n",
      "('of', 'a') :  -6.882181824725299\n",
      "('from', 'the') :  -6.886744683121814\n",
      "('said', 'the') :  -6.8921399083808375\n",
      "('united', 'states') :  -6.915384600964873\n",
      "('</s>', 'he') :  -6.959703707834659\n",
      "('said', 'in') :  -6.9872111545108755\n"
     ]
    }
   ],
   "source": [
    "# prints most common bigram\n",
    "print(max(bigram_probabilities, key = bigram_probabilities.get))\n",
    "\n",
    "# prints top 25 bigrams from the article with the largest probabilities\n",
    "largest_25 = heapq.nlargest(25, bigram_probabilities, key = bigram_probabilities.get)\n",
    "for l in largest_25:\n",
    "    print(l, \": \", bigram_probabilities[l])"
   ]
  },
  {
   "cell_type": "code",
   "execution_count": 12,
   "metadata": {},
   "outputs": [],
   "source": [
    "# test sentence\n",
    "original_sentence = \"The former president, Donald Frump, lived in the White House.\""
   ]
  },
  {
   "cell_type": "code",
   "execution_count": 13,
   "metadata": {},
   "outputs": [
    {
     "name": "stdout",
     "output_type": "stream",
     "text": [
      "the former president donald frump lived in the white house\n"
     ]
    }
   ],
   "source": [
    "def format_sentence(sentence):\n",
    "    return sentence.translate(str.maketrans('', '', string.punctuation)).lower()\n",
    "\n",
    "sentence = format_sentence(original_sentence)\n",
    "print(sentence)"
   ]
  },
  {
   "cell_type": "code",
   "execution_count": 14,
   "metadata": {},
   "outputs": [],
   "source": [
    "sentence_words = sentence.split()\n",
    "s_bigrams, s_word_freq, s_bigrams_freq = create_bigrams(sentence_words)"
   ]
  },
  {
   "cell_type": "code",
   "execution_count": 15,
   "metadata": {},
   "outputs": [
    {
     "name": "stdout",
     "output_type": "stream",
     "text": [
      "[('the', 'former'), ('former', 'president'), ('president', 'donald'), ('donald', 'frump'), ('frump', 'lived'), ('lived', 'in'), ('in', 'the'), ('the', 'white'), ('white', 'house')]\n"
     ]
    }
   ],
   "source": [
    "print(s_bigrams)"
   ]
  },
  {
   "cell_type": "code",
   "execution_count": 16,
   "metadata": {},
   "outputs": [
    {
     "name": "stdout",
     "output_type": "stream",
     "text": [
      "{'the': 2, 'former': 1, 'president': 1, 'donald': 1, 'frump': 1, 'lived': 1, 'in': 1, 'white': 1}\n"
     ]
    }
   ],
   "source": [
    "print(s_word_freq)"
   ]
  },
  {
   "cell_type": "code",
   "execution_count": 17,
   "metadata": {},
   "outputs": [
    {
     "name": "stdout",
     "output_type": "stream",
     "text": [
      "{('the', 'former'): 1, ('former', 'president'): 1, ('president', 'donald'): 1, ('donald', 'frump'): 1, ('frump', 'lived'): 1, ('lived', 'in'): 1, ('in', 'the'): 1, ('the', 'white'): 1, ('white', 'house'): 1}\n"
     ]
    }
   ],
   "source": [
    "print(s_bigrams_freq)"
   ]
  },
  {
   "cell_type": "code",
   "execution_count": 18,
   "metadata": {},
   "outputs": [
    {
     "name": "stdout",
     "output_type": "stream",
     "text": [
      "{('the', 'former'): -8.910056249919954, ('former', 'president'): -8.983292059499819, ('president', 'donald'): -7.284429390975789, ('donald', 'frump'): -15.966117792178112, ('frump', 'lived'): -15.964921977038653, ('lived', 'in'): -10.889778698156023, ('in', 'the'): -5.3671079102834485, ('the', 'white'): -7.431466730542328, ('white', 'house'): -7.107781685333634}\n"
     ]
    }
   ],
   "source": [
    "s_bigrams_probabilities = {}\n",
    "for bigram in s_bigrams:\n",
    "    if bigram not in bigram_probabilities:\n",
    "        calculate_unknown_bigrams_probability(bigram)\n",
    "    s_bigrams_probabilities[bigram] = bigram_probabilities[bigram]\n",
    "\n",
    "print(s_bigrams_probabilities)"
   ]
  },
  {
   "cell_type": "code",
   "execution_count": 19,
   "metadata": {},
   "outputs": [
    {
     "name": "stdout",
     "output_type": "stream",
     "text": [
      "('donald', 'frump')\n"
     ]
    }
   ],
   "source": [
    "smallest_probability = min(s_bigrams_probabilities, key=s_bigrams_probabilities.get)\n",
    "print(smallest_probability)"
   ]
  },
  {
   "cell_type": "code",
   "execution_count": 20,
   "metadata": {},
   "outputs": [
    {
     "name": "stdout",
     "output_type": "stream",
     "text": [
      "[(('donald', 'frump'), -15.966117792178112), (('frump', 'lived'), -15.964921977038653)]\n"
     ]
    }
   ],
   "source": [
    "two_smallest = sorted(s_bigrams_probabilities.items(), key=itemgetter(1))[:2]\n",
    "\n",
    "print(two_smallest)"
   ]
  },
  {
   "cell_type": "code",
   "execution_count": 21,
   "metadata": {},
   "outputs": [
    {
     "name": "stdout",
     "output_type": "stream",
     "text": [
      "frump\n"
     ]
    }
   ],
   "source": [
    "incorrect_word = two_smallest[0][0][1]\n",
    "# incorrect_word = two_smallest[1][0][0]\n",
    "\n",
    "print(incorrect_word)"
   ]
  },
  {
   "cell_type": "code",
   "execution_count": 22,
   "metadata": {},
   "outputs": [],
   "source": [
    "english_words = list(english_words_set)"
   ]
  },
  {
   "cell_type": "code",
   "execution_count": 23,
   "metadata": {},
   "outputs": [
    {
     "name": "stdout",
     "output_type": "stream",
     "text": [
      "True\n",
      "True\n",
      "False\n",
      "False\n",
      "True\n",
      "True\n"
     ]
    }
   ],
   "source": [
    "print('hello' in english_words)\n",
    "print('trump' in english_words)\n",
    "print('clinton' in english_words)\n",
    "print('obama' in english_words)\n",
    "print('jump' in english_words)\n",
    "print('esoteric' in english_words)"
   ]
  },
  {
   "cell_type": "code",
   "execution_count": 24,
   "metadata": {},
   "outputs": [],
   "source": [
    "def minimum_edit_distance(word1, word2):\n",
    "    # levenshtein distance minimum edit distance table\n",
    "    amt_rows = len(word1) + 1\n",
    "    amt_cols = len(word2) + 1\n",
    "    edit_distance = np.zeros((amt_rows, amt_cols))\n",
    "\n",
    "    for r in range(1, amt_rows):\n",
    "        edit_distance[r][0] = r\n",
    "    for c in range(1, amt_cols):\n",
    "        edit_distance[0][c] = c\n",
    "\n",
    "    for row in range(1, amt_rows):\n",
    "        for col in range(1, amt_cols):\n",
    "            if word1[row - 1] == word2[col - 1]:\n",
    "                edit_distance[row][col] = edit_distance[row - 1][col - 1]\n",
    "            else:\n",
    "                edit_distance[row][col] = min(edit_distance[row][col - 1] + 1,\n",
    "                                              edit_distance[row - 1][col] + 1,\n",
    "                                              edit_distance[row - 1][col - 1] + 2)\n",
    "\n",
    "    return edit_distance[amt_rows - 1][amt_cols - 1]"
   ]
  },
  {
   "cell_type": "code",
   "execution_count": 25,
   "metadata": {},
   "outputs": [
    {
     "name": "stdout",
     "output_type": "stream",
     "text": [
      "4.0\n"
     ]
    }
   ],
   "source": [
    "print(minimum_edit_distance('apple', 'trample'))"
   ]
  },
  {
   "cell_type": "code",
   "execution_count": 26,
   "metadata": {},
   "outputs": [
    {
     "name": "stdout",
     "output_type": "stream",
     "text": [
      "25487\n"
     ]
    }
   ],
   "source": [
    "print(len(english_words))"
   ]
  },
  {
   "cell_type": "code",
   "execution_count": 27,
   "metadata": {},
   "outputs": [
    {
     "name": "stdout",
     "output_type": "stream",
     "text": [
      "[('rump', 1.0), ('fum', 2.0), ('trump', 2.0), ('forum', 2.0), ('rum', 2.0), ('grump', 2.0), ('crump', 2.0), ('jump', 3.0), ('firm', 3.0), ('farm', 3.0), ('romp', 3.0), ('ramp', 3.0), ('grumpy', 3.0), ('drum', 3.0), ('rumpus', 3.0), ('from', 3.0), ('pump', 3.0), ('up', 3.0), ('bump', 3.0)]\n"
     ]
    }
   ],
   "source": [
    "distances = {}\n",
    "for i in range(len(english_words) - 1):\n",
    "    distances[english_words[i]] = minimum_edit_distance(english_words[i], incorrect_word)\n",
    "\n",
    "twenty = sorted(distances.items(), key=itemgetter(1))[:20]\n",
    "\n",
    "print(twenty[0:len(twenty)-1])"
   ]
  },
  {
   "cell_type": "code",
   "execution_count": 28,
   "metadata": {},
   "outputs": [
    {
     "name": "stdout",
     "output_type": "stream",
     "text": [
      "[(('donald', 'trump'), -7.203158871411385)]\n",
      "trump\n"
     ]
    }
   ],
   "source": [
    "first_word = two_smallest[0][0][0]\n",
    "new_probabilities = {}\n",
    "\n",
    "for i in range(len(twenty)):\n",
    "    bigram = (first_word, twenty[i][0])\n",
    "    if bigram not in bigram_probabilities:\n",
    "        calculate_unknown_bigrams_probability(bigram)\n",
    "    new_probabilities[bigram] = bigram_probabilities[bigram]\n",
    "\n",
    "largest = sorted(new_probabilities.items(), key=itemgetter(1))[-1:]\n",
    "\n",
    "print(largest)\n",
    "correct_word = largest[0][0][1]\n",
    "print(correct_word)"
   ]
  },
  {
   "cell_type": "code",
   "execution_count": 29,
   "metadata": {},
   "outputs": [
    {
     "name": "stdout",
     "output_type": "stream",
     "text": [
      "Original Sentence: The former president, Donald Frump, lived in the White House.\n",
      "Did you mean to replace frump with trump ?\n",
      "yes\n",
      "Updated Sentence:  The former president, Donald trump, lived in the White House.\n"
     ]
    }
   ],
   "source": [
    "print(\"Original Sentence:\", original_sentence)\n",
    "print(\"Did you mean to replace\", incorrect_word, \"with\", correct_word, \"?\")\n",
    "response = input(\"\")\n",
    "\n",
    "final_sentence = original_sentence\n",
    "\n",
    "if response == \"yes\":\n",
    "    for word in original_sentence.translate(str.maketrans('', '', string.punctuation)).split():\n",
    "        if word.lower() == incorrect_word:\n",
    "            final_sentence = final_sentence.replace(word, correct_word)\n",
    "            break\n",
    "    print(\"Updated Sentence: \", final_sentence)\n",
    "else:\n",
    "    print(\"We could not find a suitable change for\", incorrect_word)"
   ]
  },
  {
   "cell_type": "code",
   "execution_count": 30,
   "metadata": {},
   "outputs": [
    {
     "name": "stdout",
     "output_type": "stream",
     "text": [
      "False\n"
     ]
    }
   ],
   "source": [
    "print('reporter' in english_words)"
   ]
  },
  {
   "cell_type": "code",
   "execution_count": 31,
   "metadata": {},
   "outputs": [],
   "source": [
    "# trie to make searching faster"
   ]
  },
  {
   "cell_type": "code",
   "execution_count": 32,
   "metadata": {},
   "outputs": [
    {
     "name": "stdout",
     "output_type": "stream",
     "text": [
      "[('drum', 3), ('dump', 3), ('crump', 2), ('pump', 3), ('bump', 3), ('hump', 3), ('fume', 3), ('fum', 2), ('form', 3), ('forum', 2), ('farm', 3), ('firm', 3), ('from', 3), ('ramp', 3), ('rumpus', 3), ('rumple', 3), ('rump', 1), ('rum', 2), ('romp', 3), ('arum', 3), ('grumpy', 3), ('grump', 2), ('lump', 3), ('trump', 2), ('up', 3), ('jump', 3)]\n",
      "Search took 1.46755 seconds\n"
     ]
    }
   ],
   "source": [
    "class Trie:\n",
    "    def __init__(self):\n",
    "        self.word = None\n",
    "        self.children = {}\n",
    "    def add(self, word):\n",
    "        node = self\n",
    "        for l in word:\n",
    "            if l not in node.children: # only add letter if it isn't already there\n",
    "                node.children[l] = Trie()\n",
    "            node = node.children[l]\n",
    "        node.word = word\n",
    "\n",
    "def find(node, word, letter, previous, size, words):\n",
    "    row = [previous[0] + 1]\n",
    "\n",
    "    for column in range(1, len(word) + 1):\n",
    "        delete = previous[column] + 1 # deletions cost 1\n",
    "        insert = row[column - 1] + 1 # insertions cost 1\n",
    "        replace = 0\n",
    "        \n",
    "        if word[column - 1] == letter:\n",
    "            replace = previous[column - 1]\n",
    "        else:                \n",
    "            replace = previous[column - 1] + 2 # substitutions cost 2\n",
    "        row.append(min(delete, insert, replace)) \n",
    "    if min(row) <= size:\n",
    "        for letter in node.children:\n",
    "            find(node.children[letter], word, letter, row, size, words)\n",
    "    if node.word != None and row[len(row) - 1] <= size:\n",
    "        words.append((node.word, row[len(row) - 1]))\n",
    "\n",
    "def search(word, size):\n",
    "    row = range(len(word) + 1)\n",
    "    words = []\n",
    "    for l in trie.children:\n",
    "        find(trie.children[l], word, l, row, size, words) # recursively search\n",
    "    return words\n",
    "\n",
    "start = time.time()\n",
    "trie = Trie()\n",
    "for w in english_words:\n",
    "    trie.add(w)\n",
    "words = search(\"frump\", 3)\n",
    "end = time.time()\n",
    "print(words)\n",
    "print(\"Search took %g seconds\" % (end - start))"
   ]
  }
 ],
 "metadata": {
  "kernelspec": {
   "display_name": "Python 3",
   "language": "python",
   "name": "python3"
  },
  "language_info": {
   "codemirror_mode": {
    "name": "ipython",
    "version": 3
   },
   "file_extension": ".py",
   "mimetype": "text/x-python",
   "name": "python",
   "nbconvert_exporter": "python",
   "pygments_lexer": "ipython3",
   "version": "3.8.3"
  }
 },
 "nbformat": 4,
 "nbformat_minor": 4
}
